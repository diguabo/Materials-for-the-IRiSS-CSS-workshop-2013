{
 "metadata": {
  "name": "tfidf_solution.ipynb"
 },
 "nbformat": 3,
 "nbformat_minor": 0,
 "worksheets": [
  {
   "cells": [
    {
     "cell_type": "markdown",
     "metadata": {},
     "source": [
      "## Back to the Amazon review texts!\n",
      "### Exercise 2\n",
      "\n",
      "Now it's time for you to try applying what you've learned.  Try building a TF-IDF weighted document term matrix from the list of Amazon `review_text` strings using the `TfidfVectorizer`."
     ]
    },
    {
     "cell_type": "code",
     "collapsed": false,
     "input": [
      "import os\n",
      "import csv\n",
      "\n",
      "os.chdir('/Users/rweiss/Dropbox/presentations/IRiSS2013/text1/fileformats/')\n",
      "\n",
      "with open('amazon/sociology_2010.csv', 'rb') as csvfile:\n",
      "    amazon_reader = csv.DictReader(csvfile, delimiter=',')\n",
      "    amazon_reviews = [row['review_text'] for row in amazon_reader]\n",
      "\n",
      "from sklearn.feature_extraction.text import TfidfVectorizer\n",
      "\n",
      "tfidf_vectorizer = TfidfVectorizer()\n",
      "tfidf_matrix = tfidf_vectorizer.fit_transform(amazon_reviews)\n",
      "\n",
      "print tfidf_matrix.todense()\n",
      "print 'There are '+ str(tfidf_matrix.get_shape()[0]) + ' documents over a vocabulary feature space of ' + str(tfidf_matrix.get_shape()[1]) + ' terms.'"
     ],
     "language": "python",
     "metadata": {},
     "outputs": [
      {
       "output_type": "stream",
       "stream": "stdout",
       "text": [
        "[[ 0.          0.          0.         ...,  0.          0.          0.        ]\n",
        " [ 0.          0.          0.         ...,  0.          0.          0.        ]\n",
        " [ 0.          0.          0.         ...,  0.          0.12189387  0.        ]\n",
        " ..., \n",
        " [ 0.          0.          0.         ...,  0.          0.          0.        ]\n",
        " [ 0.          0.          0.         ...,  0.          0.          0.        ]\n",
        " [ 0.          0.          0.         ...,  0.          0.          0.        ]]\n",
        "There are 381 documents over a vocabulary feature space of 2081 terms.\n"
       ]
      }
     ],
     "prompt_number": 1
    },
    {
     "cell_type": "code",
     "collapsed": false,
     "input": [
      "tfidf_vectorizer = TfidfVectorizer(strip_accents='unicode', stop_words = 'english', ngram_range = (1,1))\n",
      "tfidf_matrix = tfidf_vectorizer.fit_transform(amazon_reviews)\n",
      "\n",
      "print tfidf_matrix.todense()\n",
      "print tfidf_matrix.get_shape()\n",
      "print 'There are '+ str(tfidf_matrix.get_shape()[0]) + ' documents over a vocabulary feature space of ' + str(tfidf_matrix.get_shape()[1]) + ' terms.'"
     ],
     "language": "python",
     "metadata": {},
     "outputs": [
      {
       "output_type": "stream",
       "stream": "stdout",
       "text": [
        "[[ 0.  0.  0. ...,  0.  0.  0.]\n",
        " [ 0.  0.  0. ...,  0.  0.  0.]\n",
        " [ 0.  0.  0. ...,  0.  0.  0.]\n",
        " ..., \n",
        " [ 0.  0.  0. ...,  0.  0.  0.]\n",
        " [ 0.  0.  0. ...,  0.  0.  0.]\n",
        " [ 0.  0.  0. ...,  0.  0.  0.]]\n",
        "(381, 1846)\n",
        "There are 381 documents over a vocabulary feature space of 1846 terms.\n"
       ]
      }
     ],
     "prompt_number": 2
    }
   ],
   "metadata": {}
  }
 ]
}