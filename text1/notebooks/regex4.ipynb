{
 "metadata": {
  "name": "regex4.ipynb"
 },
 "nbformat": 3,
 "nbformat_minor": 0,
 "worksheets": [
  {
   "cells": [
    {
     "cell_type": "code",
     "collapsed": false,
     "input": [
      "import re #the regex module in the python standard library\n",
      "\n",
      "#strings to be searched for matching regex patterns\n",
      "str1 = 'aaabbbbcc'\n",
      "str2 = 'abcabcabcabc'\n",
      "str3 = 'aabaaabb'\n",
      "test_strings = [str1, str2, str3]"
     ],
     "language": "python",
     "metadata": {},
     "outputs": [],
     "prompt_number": 3
    },
    {
     "cell_type": "code",
     "collapsed": false,
     "input": [
      "pat16 = re.compile(r'a+') #\n",
      "pat17 = re.compile(r'a*')\n",
      "pat18 = re.compile(r'a?')\n",
      "pat19 = re.compile(r'a{2}')\n",
      "\n",
      "patterns = [pat16, pat17, pat18, pat19]"
     ],
     "language": "python",
     "metadata": {},
     "outputs": [],
     "prompt_number": 4
    },
    {
     "cell_type": "code",
     "collapsed": false,
     "input": [
      "def find_match(pat, str):\n",
      "    match = re.search(pat, str)\n",
      "    if match:\n",
      "        return match.group()\n",
      "    else:\n",
      "        return 'no match.'\n",
      "\n",
      "print [pat.pattern for pat in patterns]\n",
      "\n",
      "for str in test_strings:\n",
      "    print str\n",
      "    matches = [find_match(pat, str) for pat in patterns]\n",
      "    print matches"
     ],
     "language": "python",
     "metadata": {},
     "outputs": [
      {
       "output_type": "stream",
       "stream": "stdout",
       "text": [
        "['a+', 'a*', 'a?', 'a{2}']\n",
        "aaabbbbcc\n",
        "['aaa', 'aaa', 'a', 'aa']\n",
        "abcabcabcabc\n",
        "['a', 'a', 'a', 'no match.']\n",
        "aabaaabb\n",
        "['aa', 'aa', 'a', 'aa']\n"
       ]
      }
     ],
     "prompt_number": 5
    },
    {
     "cell_type": "code",
     "collapsed": false,
     "input": [
      "str4 = '5882300 Empire'\n",
      "str5 = '5 8 8 2 3 0 0 Empire'\n",
      "test_strings = [str4, str5]\n",
      "\n",
      "pat20 = re.compile(r'\\d\\s*\\d\\s*\\d\\s*') # match 3 numbers that may or may not be surrounded by spaces\n",
      "pat21 = re.compile(r'\\d\\s+\\d\\s+\\d\\s+') # match 3 numbers that are surrounded by spaces\n",
      "\n",
      "patterns = [pat20, pat21]\n",
      "\n",
      "for str in test_strings:\n",
      "    print str\n",
      "    matches = [find_match(pat, str) for pat in patterns]\n",
      "    print matches"
     ],
     "language": "python",
     "metadata": {},
     "outputs": [
      {
       "output_type": "stream",
       "stream": "stdout",
       "text": [
        "5882300 Empire\n",
        "['588', 'no match.']\n",
        "5 8 8 2 3 0 0 Empire\n",
        "['5 8 8 ', '5 8 8 ']\n"
       ]
      }
     ],
     "prompt_number": 6
    },
    {
     "cell_type": "markdown",
     "metadata": {},
     "source": [
      "So let's say we have a bunch of strings that have telephone numbers in them.  Let's say you only want a list of these telephone numbers.  How would you do it?"
     ]
    },
    {
     "cell_type": "code",
     "collapsed": false,
     "input": [
      "test_strings = ['Call Empire Carpets at 588-2300',\n",
      "'Does Jenny live at 867 5309?',\n",
      "'You can reach Mr. Plow at 636-555-3226']\n",
      "\n",
      "# It looks like phone numbers are collections of numbers that may have a - or space in them.  \n",
      "# It can be anywhere from 7-10 numbers\n",
      "# Let's try a few patterns and see which ones work\n",
      "\n",
      "phone_pat1 = re.compile(r'\\d{10}') #10 digits in a row\n",
      "phone_pat2 = re.compile(r'\\d{3}\\s\\d{4}') # 7 digits with 1 space in between\n",
      "phone_pat3 = re.compile(r'\\d{3}\\s+\\d{4}') # 7 digits with 1 or more spaces in between\n",
      "phone_pat4 = re.compile(r'\\d{3}\\s*\\d{4}') # 7 digits with 0 or more spaces in between\n",
      "phone_pat5 = re.compile(r'\\d{3}\\W\\d{4}') # 7 digits with a non-word character in between\n",
      "phone_pat6 = re.compile(r'\\d{3}\\W\\d{3}\\W\\d{4}') #10 digits with a non-word character in between\n",
      "phone_pat7 = re.compile(r'[\\d]+[-\\W\\s]?[\\d]+[-\\W\\s]?[\\d]+') # 1 or more digits with either a -, space, or non-word character in between\n",
      "\n",
      "phone_patterns = [phone_pat1, phone_pat2, phone_pat3, phone_pat4, phone_pat5, phone_pat6, phone_pat7]"
     ],
     "language": "python",
     "metadata": {},
     "outputs": [],
     "prompt_number": 7
    },
    {
     "cell_type": "code",
     "collapsed": false,
     "input": [
      "for str in test_strings:\n",
      "    print str\n",
      "    matches = [find_match(pat, str) for pat in phone_patterns]\n",
      "    print matches"
     ],
     "language": "python",
     "metadata": {},
     "outputs": [
      {
       "output_type": "stream",
       "stream": "stdout",
       "text": [
        "Call Empire Carpets at 588-2300\n",
        "['no match.', 'no match.', 'no match.', 'no match.', '588-2300', 'no match.', '588-2300']\n",
        "Does Jenny live at 867 5309?\n",
        "['no match.', '867 5309', '867 5309', '867 5309', '867 5309', 'no match.', '867 5309']\n",
        "You can reach Mr. Plow at 636-555-3226\n",
        "['no match.', 'no match.', 'no match.', 'no match.', '555-3226', '636-555-3226', '636-555-3226']\n"
       ]
      }
     ],
     "prompt_number": 8
    },
    {
     "cell_type": "markdown",
     "metadata": {},
     "source": [
      "`phone_pat5` and `phone_pat7` seem to work the best.  Only `phone_pat7` actually returns all three full phone numbers.  \n",
      "\n",
      "That being said, this is a pretty terrible regex.  It will likely overmatch on collections of numbers that aren't phone numbers but fit the pattern.  Also, phone numbers probably come in a variety of different formats.  A wise idea would be to come up with as many test cases as you believe exist in your data and test on that smaller set of test cases.  You may discover some unexpected behaviors..."
     ]
    }
   ],
   "metadata": {}
  }
 ]
}