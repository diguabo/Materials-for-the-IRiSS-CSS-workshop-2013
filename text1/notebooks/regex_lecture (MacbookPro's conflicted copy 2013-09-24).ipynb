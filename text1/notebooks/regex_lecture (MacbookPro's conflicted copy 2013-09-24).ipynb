{
 "metadata": {
  "name": "regex_lecture.ipynb"
 },
 "nbformat": 3,
 "nbformat_minor": 0,
 "worksheets": [
  {
   "cells": [
    {
     "cell_type": "markdown",
     "metadata": {
      "slideshow": {
       "slide_type": "-"
      }
     },
     "source": [
      "# Regex tutorial\n",
      "\n",
      "## Character classes"
     ]
    },
    {
     "cell_type": "code",
     "collapsed": false,
     "input": [
      "import re #the regex module in the python standard library\n",
      "\n",
      "#strings to be searched for matching regex patterns\n",
      "str1 = \"Aardvarks belong to the Captain\"\n",
      "str2 = \"Albert's famous equation, E = mc^2.\"\n",
      "str3 = \"Located at 455 Serra Mall.\"\n",
      "str4 = \"Beware of the shape-shifters!\"\n",
      "test_strings = [str1, str2, str3, str4]"
     ],
     "language": "python",
     "metadata": {
      "slideshow": {
       "slide_type": "-"
      }
     },
     "outputs": [],
     "prompt_number": 3
    },
    {
     "cell_type": "code",
     "collapsed": false,
     "input": [
      "for test_string in test_strings:\n",
      "    print 'The test string is \"' + test_string + '\"'\n",
      "    match = re.search(r'[A-Z]', test_string)\n",
      "    if match:\n",
      "        print 'The first possible match is: ' + match.group()\n",
      "    else:\n",
      "        print 'no match.'"
     ],
     "language": "python",
     "metadata": {
      "slideshow": {
       "slide_type": "slide"
      }
     },
     "outputs": [
      {
       "output_type": "stream",
       "stream": "stdout",
       "text": [
        "The test string is \"Aardvarks belong to the Captain\"\n",
        "The first possible match is: A\n",
        "The test string is \"Albert's famous equation, E = mc^2.\"\n",
        "The first possible match is: A\n",
        "The test string is \"Located at 455 Serra Mall.\"\n",
        "The first possible match is: L\n",
        "The test string is \"Beware of the shape-shifters!\"\n",
        "The first possible match is: B\n"
       ]
      }
     ],
     "prompt_number": 6
    },
    {
     "cell_type": "code",
     "collapsed": false,
     "input": [
      "for string in test_strings:\n",
      "    print re.findall(r'[A-Z]', string)"
     ],
     "language": "python",
     "metadata": {},
     "outputs": [
      {
       "output_type": "stream",
       "stream": "stdout",
       "text": [
        "['A', 'C']\n",
        "['A', 'E']\n",
        "['L', 'S', 'M']\n",
        "['B']\n"
       ]
      }
     ],
     "prompt_number": 7
    },
    {
     "cell_type": "code",
     "collapsed": false,
     "input": [
      "patterns = [re.compile(r'[ABC]'),\n",
      "re.compile(r'[^ABC]'),\n",
      "re.compile(r'[ABC^]'),\n",
      "re.compile(r'[0123456789]'),\n",
      "re.compile(r'[0-9]'),\n",
      "re.compile(r'[0-4]'),\n",
      "re.compile(r'[A-Z]'),\n",
      "re.compile(r'[A-Za-z]'),\n",
      "re.compile(r'[A-Za-z0-9]'),\n",
      "re.compile(r'[-a-z]'),\n",
      "re.compile(r'[- a-z]')]\n",
      "\n",
      "def find_match(pattern, string):\n",
      "    match = re.search(pattern, string)\n",
      "    if match:\n",
      "        return match.group()\n",
      "    else:\n",
      "        return 'no match.'\n",
      "    \n",
      "for test_string in test_strings:\n",
      "    matches = [find_match(pattern, test_string) for pattern in patterns]\n",
      "\n",
      "    for pattern in patterns:\n",
      "        print 'The first potential match for \"' + pattern.pattern + '\" in \"' + test_string + '\" is: ' + matches[patterns.index(pattern)]"
     ],
     "language": "python",
     "metadata": {},
     "outputs": [
      {
       "output_type": "stream",
       "stream": "stdout",
       "text": [
        "The first potential match for \"[ABC]\" in \"Aardvarks belong to the Captain\" is: A\n",
        "The first potential match for \"[^ABC]\" in \"Aardvarks belong to the Captain\" is: a\n",
        "The first potential match for \"[ABC^]\" in \"Aardvarks belong to the Captain\" is: A\n",
        "The first potential match for \"[0123456789]\" in \"Aardvarks belong to the Captain\" is: no match.\n",
        "The first potential match for \"[0-9]\" in \"Aardvarks belong to the Captain\" is: no match.\n",
        "The first potential match for \"[0-4]\" in \"Aardvarks belong to the Captain\" is: no match.\n",
        "The first potential match for \"[A-Z]\" in \"Aardvarks belong to the Captain\" is: A\n",
        "The first potential match for \"[A-Za-z]\" in \"Aardvarks belong to the Captain\" is: A\n",
        "The first potential match for \"[A-Za-z0-9]\" in \"Aardvarks belong to the Captain\" is: A\n",
        "The first potential match for \"[-a-z]\" in \"Aardvarks belong to the Captain\" is: a\n",
        "The first potential match for \"[- a-z]\" in \"Aardvarks belong to the Captain\" is: a\n",
        "The first potential match for \"[ABC]\" in \"Albert's famous equation, E = mc^2.\" is: A\n",
        "The first potential match for \"[^ABC]\" in \"Albert's famous equation, E = mc^2.\" is: l\n",
        "The first potential match for \"[ABC^]\" in \"Albert's famous equation, E = mc^2.\" is: A\n",
        "The first potential match for \"[0123456789]\" in \"Albert's famous equation, E = mc^2.\" is: 2\n",
        "The first potential match for \"[0-9]\" in \"Albert's famous equation, E = mc^2.\" is: 2\n",
        "The first potential match for \"[0-4]\" in \"Albert's famous equation, E = mc^2.\" is: 2\n",
        "The first potential match for \"[A-Z]\" in \"Albert's famous equation, E = mc^2.\" is: A\n",
        "The first potential match for \"[A-Za-z]\" in \"Albert's famous equation, E = mc^2.\" is: A\n",
        "The first potential match for \"[A-Za-z0-9]\" in \"Albert's famous equation, E = mc^2.\" is: A\n",
        "The first potential match for \"[-a-z]\" in \"Albert's famous equation, E = mc^2.\" is: l\n",
        "The first potential match for \"[- a-z]\" in \"Albert's famous equation, E = mc^2.\" is: l\n",
        "The first potential match for \"[ABC]\" in \"Located at 455 Serra Mall.\" is: no match.\n",
        "The first potential match for \"[^ABC]\" in \"Located at 455 Serra Mall.\" is: L\n",
        "The first potential match for \"[ABC^]\" in \"Located at 455 Serra Mall.\" is: no match.\n",
        "The first potential match for \"[0123456789]\" in \"Located at 455 Serra Mall.\" is: 4\n",
        "The first potential match for \"[0-9]\" in \"Located at 455 Serra Mall.\" is: 4\n",
        "The first potential match for \"[0-4]\" in \"Located at 455 Serra Mall.\" is: 4\n",
        "The first potential match for \"[A-Z]\" in \"Located at 455 Serra Mall.\" is: L\n",
        "The first potential match for \"[A-Za-z]\" in \"Located at 455 Serra Mall.\" is: L\n",
        "The first potential match for \"[A-Za-z0-9]\" in \"Located at 455 Serra Mall.\" is: L\n",
        "The first potential match for \"[-a-z]\" in \"Located at 455 Serra Mall.\" is: o\n",
        "The first potential match for \"[- a-z]\" in \"Located at 455 Serra Mall.\" is: o\n",
        "The first potential match for \"[ABC]\" in \"Beware of the shape-shifters!\" is: B\n",
        "The first potential match for \"[^ABC]\" in \"Beware of the shape-shifters!\" is: e\n",
        "The first potential match for \"[ABC^]\" in \"Beware of the shape-shifters!\" is: B\n",
        "The first potential match for \"[0123456789]\" in \"Beware of the shape-shifters!\" is: no match.\n",
        "The first potential match for \"[0-9]\" in \"Beware of the shape-shifters!\" is: no match.\n",
        "The first potential match for \"[0-4]\" in \"Beware of the shape-shifters!\" is: no match.\n",
        "The first potential match for \"[A-Z]\" in \"Beware of the shape-shifters!\" is: B\n",
        "The first potential match for \"[A-Za-z]\" in \"Beware of the shape-shifters!\" is: B\n",
        "The first potential match for \"[A-Za-z0-9]\" in \"Beware of the shape-shifters!\" is: B\n",
        "The first potential match for \"[-a-z]\" in \"Beware of the shape-shifters!\" is: e\n",
        "The first potential match for \"[- a-z]\" in \"Beware of the shape-shifters!\" is: e\n"
       ]
      }
     ],
     "prompt_number": 8
    },
    {
     "cell_type": "markdown",
     "metadata": {},
     "source": [
      "## Pre-defined character classes: shorthand"
     ]
    },
    {
     "cell_type": "code",
     "collapsed": false,
     "input": [
      "patterns2 = [re.compile(r'.'),\n",
      "re.compile(r'\\w'),\n",
      "re.compile(r'\\W'),\n",
      "re.compile(r'\\d'),\n",
      "re.compile(r'\\D'),\n",
      "re.compile(r'\\n'),\n",
      "re.compile(r'\\r'),\n",
      "re.compile(r'\\t'),\n",
      "re.compile(r'\\f'),\n",
      "re.compile(r'\\s')]\n",
      "\n",
      "test_strings.append('Aardvarks belong to the Captain, capt_hook')\n",
      "\n",
      "for test_string in test_strings:\n",
      "    matches = [find_match(pattern, test_string) for pattern in patterns2]\n",
      "\n",
      "    for pattern in patterns2:\n",
      "        print 'The first potential match for \"' + pattern.pattern + '\" in \"' + test_string + '\" is: ' + matches[patterns2.index(pattern)]"
     ],
     "language": "python",
     "metadata": {},
     "outputs": [
      {
       "output_type": "stream",
       "stream": "stdout",
       "text": [
        "The first potential match for \".\" in \"Aardvarks belong to the Captain\" is: A\n",
        "The first potential match for \"\\w\" in \"Aardvarks belong to the Captain\" is: A\n",
        "The first potential match for \"\\W\" in \"Aardvarks belong to the Captain\" is:  \n",
        "The first potential match for \"\\d\" in \"Aardvarks belong to the Captain\" is: no match.\n",
        "The first potential match for \"\\D\" in \"Aardvarks belong to the Captain\" is: A\n",
        "The first potential match for \"\\n\" in \"Aardvarks belong to the Captain\" is: no match.\n",
        "The first potential match for \"\\r\" in \"Aardvarks belong to the Captain\" is: no match.\n",
        "The first potential match for \"\\t\" in \"Aardvarks belong to the Captain\" is: no match.\n",
        "The first potential match for \"\\f\" in \"Aardvarks belong to the Captain\" is: no match.\n",
        "The first potential match for \"\\s\" in \"Aardvarks belong to the Captain\" is:  \n",
        "The first potential match for \".\" in \"Albert's famous equation, E = mc^2.\" is: A\n",
        "The first potential match for \"\\w\" in \"Albert's famous equation, E = mc^2.\" is: A\n",
        "The first potential match for \"\\W\" in \"Albert's famous equation, E = mc^2.\" is: '\n",
        "The first potential match for \"\\d\" in \"Albert's famous equation, E = mc^2.\" is: 2\n",
        "The first potential match for \"\\D\" in \"Albert's famous equation, E = mc^2.\" is: A\n",
        "The first potential match for \"\\n\" in \"Albert's famous equation, E = mc^2.\" is: no match.\n",
        "The first potential match for \"\\r\" in \"Albert's famous equation, E = mc^2.\" is: no match.\n",
        "The first potential match for \"\\t\" in \"Albert's famous equation, E = mc^2.\" is: no match.\n",
        "The first potential match for \"\\f\" in \"Albert's famous equation, E = mc^2.\" is: no match.\n",
        "The first potential match for \"\\s\" in \"Albert's famous equation, E = mc^2.\" is:  \n",
        "The first potential match for \".\" in \"Located at 455 Serra Mall.\" is: L\n",
        "The first potential match for \"\\w\" in \"Located at 455 Serra Mall.\" is: L\n",
        "The first potential match for \"\\W\" in \"Located at 455 Serra Mall.\" is:  \n",
        "The first potential match for \"\\d\" in \"Located at 455 Serra Mall.\" is: 4\n",
        "The first potential match for \"\\D\" in \"Located at 455 Serra Mall.\" is: L\n",
        "The first potential match for \"\\n\" in \"Located at 455 Serra Mall.\" is: no match.\n",
        "The first potential match for \"\\r\" in \"Located at 455 Serra Mall.\" is: no match.\n",
        "The first potential match for \"\\t\" in \"Located at 455 Serra Mall.\" is: no match.\n",
        "The first potential match for \"\\f\" in \"Located at 455 Serra Mall.\" is: no match.\n",
        "The first potential match for \"\\s\" in \"Located at 455 Serra Mall.\" is:  \n",
        "The first potential match for \".\" in \"Beware of the shape-shifters!\" is: B\n",
        "The first potential match for \"\\w\" in \"Beware of the shape-shifters!\" is: B\n",
        "The first potential match for \"\\W\" in \"Beware of the shape-shifters!\" is:  \n",
        "The first potential match for \"\\d\" in \"Beware of the shape-shifters!\" is: no match.\n",
        "The first potential match for \"\\D\" in \"Beware of the shape-shifters!\" is: B\n",
        "The first potential match for \"\\n\" in \"Beware of the shape-shifters!\" is: no match.\n",
        "The first potential match for \"\\r\" in \"Beware of the shape-shifters!\" is: no match.\n",
        "The first potential match for \"\\t\" in \"Beware of the shape-shifters!\" is: no match.\n",
        "The first potential match for \"\\f\" in \"Beware of the shape-shifters!\" is: no match.\n",
        "The first potential match for \"\\s\" in \"Beware of the shape-shifters!\" is:  \n",
        "The first potential match for \".\" in \"Aardvarks belong to the Captain, capt_hook\" is: A\n",
        "The first potential match for \"\\w\" in \"Aardvarks belong to the Captain, capt_hook\" is: A\n",
        "The first potential match for \"\\W\" in \"Aardvarks belong to the Captain, capt_hook\" is:  \n",
        "The first potential match for \"\\d\" in \"Aardvarks belong to the Captain, capt_hook\" is: no match.\n",
        "The first potential match for \"\\D\" in \"Aardvarks belong to the Captain, capt_hook\" is: A\n",
        "The first potential match for \"\\n\" in \"Aardvarks belong to the Captain, capt_hook\" is: no match.\n",
        "The first potential match for \"\\r\" in \"Aardvarks belong to the Captain, capt_hook\" is: no match.\n",
        "The first potential match for \"\\t\" in \"Aardvarks belong to the Captain, capt_hook\" is: no match.\n",
        "The first potential match for \"\\f\" in \"Aardvarks belong to the Captain, capt_hook\" is: no match.\n",
        "The first potential match for \"\\s\" in \"Aardvarks belong to the Captain, capt_hook\" is:  \n"
       ]
      }
     ],
     "prompt_number": 9
    },
    {
     "cell_type": "markdown",
     "metadata": {},
     "source": [
      "## Matching character sequences\n"
     ]
    },
    {
     "cell_type": "code",
     "collapsed": false,
     "input": [
      "test_strings2 = [\"The Aardvarks belong to the Captain.\",\n",
      "                 \"Bitter butter won't make the batter better.\",\n",
      "                 \"Hark, the pitter patter of little feet!\"]\n",
      "\n",
      "patterns3 = [re.compile(r'Aa'),\n",
      "re.compile(r'[Aa][Aa]'),\n",
      "re.compile(r'[aeiou][aeiou]'),\n",
      "re.compile(r'[AaEeIiOoUu][aeiou]'),\n",
      "re.compile(r'[Tt]he'),\n",
      "re.compile(r'^[Tt]he'),\n",
      "re.compile(r'n.'),\n",
      "re.compile(r'n.$'),\n",
      "re.compile(r'\\W\\w'),\n",
      "re.compile(r'\\w[aeiou]tter'),\n",
      "re.compile(r'\\w[aeiou]tter'),\n",
      "re.compile(r'..tt..')]\n",
      "\n",
      "for test_string in test_strings2:\n",
      "    matches = [find_match(pattern, test_string) for pattern in patterns3]\n",
      "\n",
      "    for pattern in patterns3:\n",
      "        print 'The first potential match for \"' + pattern.pattern + '\" in \"' + test_string + '\" is: ' + matches[patterns3.index(pattern)]"
     ],
     "language": "python",
     "metadata": {},
     "outputs": [
      {
       "output_type": "stream",
       "stream": "stdout",
       "text": [
        "The first potential match for \"Aa\" in \"The Aardvarks belong to the Captain.\" is: Aa\n",
        "The first potential match for \"[Aa][Aa]\" in \"The Aardvarks belong to the Captain.\" is: Aa\n",
        "The first potential match for \"[aeiou][aeiou]\" in \"The Aardvarks belong to the Captain.\" is: ai\n",
        "The first potential match for \"[AaEeIiOoUu][aeiou]\" in \"The Aardvarks belong to the Captain.\" is: Aa\n",
        "The first potential match for \"[Tt]he\" in \"The Aardvarks belong to the Captain.\" is: The\n",
        "The first potential match for \"^[Tt]he\" in \"The Aardvarks belong to the Captain.\" is: The\n",
        "The first potential match for \"n.\" in \"The Aardvarks belong to the Captain.\" is: ng\n",
        "The first potential match for \"n.$\" in \"The Aardvarks belong to the Captain.\" is: n.\n",
        "The first potential match for \"\\W\\w\" in \"The Aardvarks belong to the Captain.\" is:  A\n",
        "The first potential match for \"\\w[aeiou]tter\" in \"The Aardvarks belong to the Captain.\" is: no match.\n",
        "The first potential match for \"\\w[aeiou]tter\" in \"The Aardvarks belong to the Captain.\" is: no match.\n",
        "The first potential match for \"..tt..\" in \"The Aardvarks belong to the Captain.\" is: no match.\n",
        "The first potential match for \"Aa\" in \"Bitter butter won't make the batter better.\" is: no match.\n",
        "The first potential match for \"[Aa][Aa]\" in \"Bitter butter won't make the batter better.\" is: no match.\n",
        "The first potential match for \"[aeiou][aeiou]\" in \"Bitter butter won't make the batter better.\" is: no match.\n",
        "The first potential match for \"[AaEeIiOoUu][aeiou]\" in \"Bitter butter won't make the batter better.\" is: no match.\n",
        "The first potential match for \"[Tt]he\" in \"Bitter butter won't make the batter better.\" is: the\n",
        "The first potential match for \"^[Tt]he\" in \"Bitter butter won't make the batter better.\" is: no match.\n",
        "The first potential match for \"n.\" in \"Bitter butter won't make the batter better.\" is: n'\n",
        "The first potential match for \"n.$\" in \"Bitter butter won't make the batter better.\" is: no match.\n",
        "The first potential match for \"\\W\\w\" in \"Bitter butter won't make the batter better.\" is:  b\n",
        "The first potential match for \"\\w[aeiou]tter\" in \"Bitter butter won't make the batter better.\" is: Bitter\n",
        "The first potential match for \"\\w[aeiou]tter\" in \"Bitter butter won't make the batter better.\" is: Bitter\n",
        "The first potential match for \"..tt..\" in \"Bitter butter won't make the batter better.\" is: Bitter\n",
        "The first potential match for \"Aa\" in \"Hark, the pitter patter of little feet!\" is: no match.\n",
        "The first potential match for \"[Aa][Aa]\" in \"Hark, the pitter patter of little feet!\" is: no match.\n",
        "The first potential match for \"[aeiou][aeiou]\" in \"Hark, the pitter patter of little feet!\" is: ee\n",
        "The first potential match for \"[AaEeIiOoUu][aeiou]\" in \"Hark, the pitter patter of little feet!\" is: ee\n",
        "The first potential match for \"[Tt]he\" in \"Hark, the pitter patter of little feet!\" is: the\n",
        "The first potential match for \"^[Tt]he\" in \"Hark, the pitter patter of little feet!\" is: no match.\n",
        "The first potential match for \"n.\" in \"Hark, the pitter patter of little feet!\" is: no match.\n",
        "The first potential match for \"n.$\" in \"Hark, the pitter patter of little feet!\" is: no match.\n",
        "The first potential match for \"\\W\\w\" in \"Hark, the pitter patter of little feet!\" is:  t\n",
        "The first potential match for \"\\w[aeiou]tter\" in \"Hark, the pitter patter of little feet!\" is: pitter\n",
        "The first potential match for \"\\w[aeiou]tter\" in \"Hark, the pitter patter of little feet!\" is: pitter\n",
        "The first potential match for \"..tt..\" in \"Hark, the pitter patter of little feet!\" is: pitter\n"
       ]
      }
     ],
     "prompt_number": 10
    },
    {
     "cell_type": "markdown",
     "metadata": {},
     "source": [
      "## Matching character sequences"
     ]
    },
    {
     "cell_type": "code",
     "collapsed": false,
     "input": [
      "def find_all_matches(pattern, string):\n",
      "    matches = re.findall(pattern, string)\n",
      "    if matches:\n",
      "        return matches\n",
      "    else:\n",
      "        return 'no matches.'\n",
      "\n",
      "for test_string in test_strings2:\n",
      "    matches = [find_all_matches(pattern, test_string) for pattern in patterns3]\n",
      "    \n",
      "    for pattern in patterns3:\n",
      "        if matches[patterns3.index(pattern)] != 'no matches.':\n",
      "            print 'All potential matches for \"' + pattern.pattern + '\" in \"' + test_string + '\" is/are: ' + ', '.join(matches[patterns3.index(pattern)])\n",
      "        else:\n",
      "            print 'There were no matches for \"' + pattern.pattern + '\" in \"' + test_string + '\".'\n"
     ],
     "language": "python",
     "metadata": {},
     "outputs": [
      {
       "output_type": "stream",
       "stream": "stdout",
       "text": [
        "All potential matches for \"Aa\" in \"The Aardvarks belong to the Captain.\" is/are: Aa\n",
        "All potential matches for \"[Aa][Aa]\" in \"The Aardvarks belong to the Captain.\" is/are: Aa\n",
        "All potential matches for \"[aeiou][aeiou]\" in \"The Aardvarks belong to the Captain.\" is/are: ai\n",
        "All potential matches for \"[AaEeIiOoUu][aeiou]\" in \"The Aardvarks belong to the Captain.\" is/are: Aa, ai\n",
        "All potential matches for \"[Tt]he\" in \"The Aardvarks belong to the Captain.\" is/are: The, the\n",
        "All potential matches for \"^[Tt]he\" in \"The Aardvarks belong to the Captain.\" is/are: The\n",
        "All potential matches for \"n.\" in \"The Aardvarks belong to the Captain.\" is/are: ng, n.\n",
        "All potential matches for \"n.$\" in \"The Aardvarks belong to the Captain.\" is/are: n.\n",
        "All potential matches for \"\\W\\w\" in \"The Aardvarks belong to the Captain.\" is/are:  A,  b,  t,  t,  C\n",
        "There were no matches for \"\\w[aeiou]tter\" in \"The Aardvarks belong to the Captain.\".\n",
        "There were no matches for \"\\w[aeiou]tter\" in \"The Aardvarks belong to the Captain.\".\n",
        "There were no matches for \"..tt..\" in \"The Aardvarks belong to the Captain.\".\n",
        "There were no matches for \"Aa\" in \"Bitter butter won't make the batter better.\".\n",
        "There were no matches for \"[Aa][Aa]\" in \"Bitter butter won't make the batter better.\".\n",
        "There were no matches for \"[aeiou][aeiou]\" in \"Bitter butter won't make the batter better.\".\n",
        "There were no matches for \"[AaEeIiOoUu][aeiou]\" in \"Bitter butter won't make the batter better.\".\n",
        "All potential matches for \"[Tt]he\" in \"Bitter butter won't make the batter better.\" is/are: the\n",
        "There were no matches for \"^[Tt]he\" in \"Bitter butter won't make the batter better.\".\n",
        "All potential matches for \"n.\" in \"Bitter butter won't make the batter better.\" is/are: n'\n",
        "There were no matches for \"n.$\" in \"Bitter butter won't make the batter better.\".\n",
        "All potential matches for \"\\W\\w\" in \"Bitter butter won't make the batter better.\" is/are:  b,  w, 't,  m,  t,  b,  b\n",
        "All potential matches for \"\\w[aeiou]tter\" in \"Bitter butter won't make the batter better.\" is/are: Bitter, butter, batter, better\n",
        "All potential matches for \"\\w[aeiou]tter\" in \"Bitter butter won't make the batter better.\" is/are: Bitter, butter, batter, better\n",
        "All potential matches for \"..tt..\" in \"Bitter butter won't make the batter better.\" is/are: Bitter, butter, batter, better\n",
        "There were no matches for \"Aa\" in \"Hark, the pitter patter of little feet!\".\n",
        "There were no matches for \"[Aa][Aa]\" in \"Hark, the pitter patter of little feet!\".\n",
        "All potential matches for \"[aeiou][aeiou]\" in \"Hark, the pitter patter of little feet!\" is/are: ee\n",
        "All potential matches for \"[AaEeIiOoUu][aeiou]\" in \"Hark, the pitter patter of little feet!\" is/are: ee\n",
        "All potential matches for \"[Tt]he\" in \"Hark, the pitter patter of little feet!\" is/are: the\n",
        "There were no matches for \"^[Tt]he\" in \"Hark, the pitter patter of little feet!\".\n",
        "There were no matches for \"n.\" in \"Hark, the pitter patter of little feet!\".\n",
        "There were no matches for \"n.$\" in \"Hark, the pitter patter of little feet!\".\n",
        "All potential matches for \"\\W\\w\" in \"Hark, the pitter patter of little feet!\" is/are:  t,  p,  p,  o,  l,  f\n",
        "All potential matches for \"\\w[aeiou]tter\" in \"Hark, the pitter patter of little feet!\" is/are: pitter, patter\n",
        "All potential matches for \"\\w[aeiou]tter\" in \"Hark, the pitter patter of little feet!\" is/are: pitter, patter\n",
        "All potential matches for \"..tt..\" in \"Hark, the pitter patter of little feet!\" is/are: pitter, patter, little\n"
       ]
      }
     ],
     "prompt_number": 11
    },
    {
     "cell_type": "markdown",
     "metadata": {},
     "source": [
      "## Quantification and grouping"
     ]
    },
    {
     "cell_type": "code",
     "collapsed": false,
     "input": [
      "test_strings3 = ['Now Mr. N said, \"Nooooooo!\"',\n",
      "                 'Then she told him he had to be quiet.']\n",
      "\n",
      "patterns4 = [re.compile(r'No*'),\n",
      "re.compile(r'No+'),\n",
      "re.compile(r'No?'),\n",
      "re.compile(r'No{7}'),\n",
      "re.compile(r's?he'),\n",
      "re.compile(r'(she|he)')]\n",
      "\n",
      "for test_string in test_strings3:\n",
      "    matches = [find_all_matches(pattern, test_string) for pattern in patterns4]\n",
      "    \n",
      "    for pattern in patterns4:\n",
      "        if matches[patterns4.index(pattern)] != 'no matches.':\n",
      "            print 'All potential matches for \"' + pattern.pattern + '\" in \"' + test_string + '\" is/are: ' + ', '.join(matches[patterns4.index(pattern)])\n",
      "        else:\n",
      "            print 'There were no matches for \"' + pattern.pattern + '\" in \"' + test_string + '\".'"
     ],
     "language": "python",
     "metadata": {},
     "outputs": [
      {
       "output_type": "stream",
       "stream": "stdout",
       "text": [
        "All potential matches for \"No*\" in \"Now Mr. N said, \"Nooooooo!\"\" is/are: No, N, Nooooooo\n",
        "All potential matches for \"No+\" in \"Now Mr. N said, \"Nooooooo!\"\" is/are: No, Nooooooo\n",
        "All potential matches for \"No?\" in \"Now Mr. N said, \"Nooooooo!\"\" is/are: No, N, No\n",
        "All potential matches for \"No{7}\" in \"Now Mr. N said, \"Nooooooo!\"\" is/are: Nooooooo\n",
        "There were no matches for \"s?he\" in \"Now Mr. N said, \"Nooooooo!\"\".\n",
        "There were no matches for \"(she|he)\" in \"Now Mr. N said, \"Nooooooo!\"\".\n",
        "There were no matches for \"No*\" in \"Then she told him he had to be quiet.\".\n",
        "There were no matches for \"No+\" in \"Then she told him he had to be quiet.\".\n",
        "There were no matches for \"No?\" in \"Then she told him he had to be quiet.\".\n",
        "There were no matches for \"No{7}\" in \"Then she told him he had to be quiet.\".\n",
        "All potential matches for \"s?he\" in \"Then she told him he had to be quiet.\" is/are: he, she, he\n",
        "All potential matches for \"(she|he)\" in \"Then she told him he had to be quiet.\" is/are: he, she, he\n"
       ]
      }
     ],
     "prompt_number": 12
    },
    {
     "cell_type": "markdown",
     "metadata": {},
     "source": [
      "## Capturing groups"
     ]
    },
    {
     "cell_type": "code",
     "collapsed": false,
     "input": [
      "test_strings4 = ['The benefit is being held for Mr. Kite and Mr. Henderson.',\n",
      "                 'Tickets cost $5.00 for adults, $3.50 for children.',\n",
      "                 'Over 9000 attendees are expected, up from 900 attendees last year.',\n",
      "                 'Over 9,000 attendees are expected, up from 900 attendees last year.']\n",
      "\n",
      "patterns5 = [re.compile(r'Mr\\. (\\w+)'),\n",
      "re.compile(r'\\$(\\d+\\.\\d\\d)'),\n",
      "re.compile(r'(\\d+) attendees'),\n",
      "re.compile(r'((\\d+,)*\\d+) attendees')]"
     ],
     "language": "python",
     "metadata": {},
     "outputs": [],
     "prompt_number": 13
    },
    {
     "cell_type": "code",
     "collapsed": false,
     "input": [
      "# simple example\n",
      "\n",
      "matches = re.search(patterns5[3], test_strings4[3])\n",
      "print 'Group 0: ' + matches.group(0)\n",
      "print 'Group 1: ' + matches.group(1)\n",
      "print 'Group 2: ' + matches.group(2)\n",
      "#print 'Group 3: ' + matches.group(3) # what happens if you uncomment this?"
     ],
     "language": "python",
     "metadata": {},
     "outputs": [
      {
       "output_type": "stream",
       "stream": "stdout",
       "text": [
        "Group 0: 9,000 attendees\n",
        "Group 1: 9,000\n",
        "Group 2: 9,\n"
       ]
      }
     ],
     "prompt_number": 15
    },
    {
     "cell_type": "code",
     "collapsed": false,
     "input": [
      "for test_string in test_strings4:\n",
      "    for pattern in patterns5:\n",
      "        for result in re.finditer(pattern, test_string):\n",
      "            for i in range(pattern.groups+1):\n",
      "                \n",
      "                print 'In \"' + test_string + '\", '  + 'given pattern \"' + pattern.pattern + '\", the group ' +str(i)+ ' match is ' + str(result.group(i))"
     ],
     "language": "python",
     "metadata": {},
     "outputs": [
      {
       "output_type": "stream",
       "stream": "stdout",
       "text": [
        "In \"The benefit is being held for Mr. Kite and Mr. Henderson.\", given pattern \"Mr\\. (\\w+)\", the group 0 match is Mr. Kite\n",
        "In \"The benefit is being held for Mr. Kite and Mr. Henderson.\", given pattern \"Mr\\. (\\w+)\", the group 1 match is Kite\n",
        "In \"The benefit is being held for Mr. Kite and Mr. Henderson.\", given pattern \"Mr\\. (\\w+)\", the group 0 match is Mr. Henderson\n",
        "In \"The benefit is being held for Mr. Kite and Mr. Henderson.\", given pattern \"Mr\\. (\\w+)\", the group 1 match is Henderson\n",
        "In \"Tickets cost $5.00 for adults, $3.50 for children.\", given pattern \"\\$(\\d+\\.\\d\\d)\", the group 0 match is $5.00\n",
        "In \"Tickets cost $5.00 for adults, $3.50 for children.\", given pattern \"\\$(\\d+\\.\\d\\d)\", the group 1 match is 5.00\n",
        "In \"Tickets cost $5.00 for adults, $3.50 for children.\", given pattern \"\\$(\\d+\\.\\d\\d)\", the group 0 match is $3.50\n",
        "In \"Tickets cost $5.00 for adults, $3.50 for children.\", given pattern \"\\$(\\d+\\.\\d\\d)\", the group 1 match is 3.50\n",
        "In \"Over 9000 attendees are expected, up from 900 attendees last year.\", given pattern \"(\\d+) attendees\", the group 0 match is 9000 attendees\n",
        "In \"Over 9000 attendees are expected, up from 900 attendees last year.\", given pattern \"(\\d+) attendees\", the group 1 match is 9000\n",
        "In \"Over 9000 attendees are expected, up from 900 attendees last year.\", given pattern \"(\\d+) attendees\", the group 0 match is 900 attendees\n",
        "In \"Over 9000 attendees are expected, up from 900 attendees last year.\", given pattern \"(\\d+) attendees\", the group 1 match is 900\n",
        "In \"Over 9000 attendees are expected, up from 900 attendees last year.\", given pattern \"((\\d+,)*\\d+) attendees\", the group 0 match is 9000 attendees\n",
        "In \"Over 9000 attendees are expected, up from 900 attendees last year.\", given pattern \"((\\d+,)*\\d+) attendees\", the group 1 match is 9000\n",
        "In \"Over 9000 attendees are expected, up from 900 attendees last year.\", given pattern \"((\\d+,)*\\d+) attendees\", the group 2 match is None\n",
        "In \"Over 9000 attendees are expected, up from 900 attendees last year.\", given pattern \"((\\d+,)*\\d+) attendees\", the group 0 match is 900 attendees\n",
        "In \"Over 9000 attendees are expected, up from 900 attendees last year.\", given pattern \"((\\d+,)*\\d+) attendees\", the group 1 match is 900\n",
        "In \"Over 9000 attendees are expected, up from 900 attendees last year.\", given pattern \"((\\d+,)*\\d+) attendees\", the group 2 match is None\n",
        "In \"Over 9,000 attendees are expected, up from 900 attendees last year.\", given pattern \"(\\d+) attendees\", the group 0 match is 000 attendees\n",
        "In \"Over 9,000 attendees are expected, up from 900 attendees last year.\", given pattern \"(\\d+) attendees\", the group 1 match is 000\n",
        "In \"Over 9,000 attendees are expected, up from 900 attendees last year.\", given pattern \"(\\d+) attendees\", the group 0 match is 900 attendees\n",
        "In \"Over 9,000 attendees are expected, up from 900 attendees last year.\", given pattern \"(\\d+) attendees\", the group 1 match is 900\n",
        "In \"Over 9,000 attendees are expected, up from 900 attendees last year.\", given pattern \"((\\d+,)*\\d+) attendees\", the group 0 match is 9,000 attendees\n",
        "In \"Over 9,000 attendees are expected, up from 900 attendees last year.\", given pattern \"((\\d+,)*\\d+) attendees\", the group 1 match is 9,000\n",
        "In \"Over 9,000 attendees are expected, up from 900 attendees last year.\", given pattern \"((\\d+,)*\\d+) attendees\", the group 2 match is 9,\n",
        "In \"Over 9,000 attendees are expected, up from 900 attendees last year.\", given pattern \"((\\d+,)*\\d+) attendees\", the group 0 match is 900 attendees\n",
        "In \"Over 9,000 attendees are expected, up from 900 attendees last year.\", given pattern \"((\\d+,)*\\d+) attendees\", the group 1 match is 900\n",
        "In \"Over 9,000 attendees are expected, up from 900 attendees last year.\", given pattern \"((\\d+,)*\\d+) attendees\", the group 2 match is None\n"
       ]
      }
     ],
     "prompt_number": 16
    },
    {
     "cell_type": "markdown",
     "metadata": {},
     "source": [
      "## Final exercise\n",
      "\n",
      "Let's see how much you've learned.  We're going to give you three strings that have a phone number in them.  Your job is to write a regex that will return the full form of all of them."
     ]
    },
    {
     "cell_type": "code",
     "collapsed": false,
     "input": [
      "phone_strings = ['Call Empire Carpets at 588-2300',\n",
      "'Does Jenny live at 867 5309?',\n",
      "'You can reach Mr. Plow at 636-555-3226']"
     ],
     "language": "python",
     "metadata": {},
     "outputs": [],
     "prompt_number": 12
    }
   ],
   "metadata": {}
  }
 ]
}