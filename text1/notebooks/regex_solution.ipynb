{
 "metadata": {
  "name": "regex_solution.ipynb"
 },
 "nbformat": 3,
 "nbformat_minor": 0,
 "worksheets": [
  {
   "cells": [
    {
     "cell_type": "markdown",
     "metadata": {
      "slideshow": {
       "slide_type": "-"
      }
     },
     "source": [
      "# Regex tutorial"
     ]
    },
    {
     "cell_type": "markdown",
     "metadata": {},
     "source": [
      "## Final exercise\n",
      "\n",
      "Let's see how much you've learned.  We're going to give you three strings that have a phone number in them.  Your job is to write a regex that will return the full form of all of them."
     ]
    },
    {
     "cell_type": "code",
     "collapsed": false,
     "input": [
      "phone_strings = ['Call Empire Carpets at 588-2300',\n",
      "'Does Jenny live at 867 5309?',\n",
      "'You can reach Mr. Plow at 636-555-3226']\n",
      "\n",
      "# It looks like phone numbers are collections of numbers that may have a - or space in them.  \n",
      "# It can be anywhere from 7-10 numbers\n",
      "# Let's try a few patterns and see which ones work\n",
      "\n",
      "phone_pat1 = re.compile(r'\\d{10}') #10 digits in a row\n",
      "phone_pat2 = re.compile(r'\\d{3}\\s\\d{4}') # 7 digits with 1 space in between\n",
      "phone_pat3 = re.compile(r'\\d{3}\\s+\\d{4}') # 7 digits with 1 or more spaces in between\n",
      "phone_pat4 = re.compile(r'\\d{3}\\s*\\d{4}') # 7 digits with 0 or more spaces in between\n",
      "phone_pat5 = re.compile(r'\\d{3}\\W\\d{4}') # 7 digits with a non-word character in between\n",
      "phone_pat6 = re.compile(r'\\d{3}\\W\\d{3}\\W\\d{4}') #10 digits with a non-word character in between\n",
      "phone_pat7 = re.compile(r'[\\d]+[-\\W\\s]?[\\d]+[-\\W\\s]?[\\d]+') # 1 or more digits with either a -, space, or non-word character in between\n",
      "\n",
      "phone_patterns = [phone_pat1, phone_pat2, phone_pat3, phone_pat4, phone_pat5, phone_pat6, phone_pat7]\n",
      "\n",
      "for string in test_strings:\n",
      "    print string\n",
      "    matches = [find_match(pat, str) for pat in phone_patterns]\n",
      "    print matches"
     ],
     "language": "python",
     "metadata": {},
     "outputs": [],
     "prompt_number": 12
    }
   ],
   "metadata": {}
  }
 ]
}