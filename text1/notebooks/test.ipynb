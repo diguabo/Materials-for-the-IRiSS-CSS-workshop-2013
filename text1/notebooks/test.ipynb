{
 "metadata": {
  "name": "test.ipynb"
 },
 "nbformat": 3,
 "nbformat_minor": 0,
 "worksheets": [
  {
   "cells": [
    {
     "cell_type": "code",
     "collapsed": false,
     "input": [
      "import urllib2\n",
      "f = urllib2.urlopen('http://www.stanford.edu/~rjweiss/public_html/IRiSS2013/text1/extra/esperanto.txt')\n",
      "foo = f.readlines()\n",
      "f.close()\n",
      "\n",
      "foo[0]"
     ],
     "language": "python",
     "metadata": {},
     "outputs": [
      {
       "output_type": "pyout",
       "prompt_number": 1,
       "text": [
        "\"Nul d\\xc3\\xa0 for\\xc3\\xa9n fo\\xc3\\xbbnd. Far eksa du\\xc5\\x93nd\\xc3\\xaff\\xc3\\xafna mi, miloj \\xc3\\xb4kcid\\xc3\\xa8nte n\\xc3\\xaa far, g\\xc3\\xabtto \\xc3\\xaflion men oj. Oz p\\xc3\\xa9r olog kvin \\xc3\\xa8st\\xc3\\xaf\\xc3\\xa9l, \\xc3\\xaesm ja c\\xc3\\xa9nt t\\xc3\\xa0g\\xc5\\x93. Su\\xc5\\x93m\\xc3\\xafo r\\xc3\\xa8spond\\xc3\\xab ba ena, \\xc3\\xa0j jen am\\xc3\\xa9n nett\\xc3\\xaa, sor d\\xc3\\xaavus multe duont\\xc3\\xb4n\\xc5\\x93 aj. Ki\\xc3\\xa0n f\\xc3\\xbbnd\\xc3\\xa2m\\xc3\\xa8nto bv p\\xc3\\xaar, plej\\xc3\\xa2 log'\\xc3\\xb4 \\xc3\\xaeomete la ojd, o\\xc3\\xaed in \\xc3\\xa9kkri\\xc3\\xb4 \\xc3\\xaenf\\xc3\\xaenit\\xc3\\xafv\\xc5\\x93. Ing pli\\xc3\\xa9 franjo rilativ\\xc3\\xb4 nv.\\n\""
       ]
      }
     ],
     "prompt_number": 1
    },
    {
     "cell_type": "code",
     "collapsed": false,
     "input": [
      "print foo[0]"
     ],
     "language": "python",
     "metadata": {},
     "outputs": [
      {
       "output_type": "stream",
       "stream": "stdout",
       "text": [
        "Nul d\u00e0 for\u00e9n fo\u00fbnd. Far eksa du\u0153nd\u00eff\u00efna mi, miloj \u00f4kcid\u00e8nte n\u00ea far, g\u00ebtto \u00eflion men oj. Oz p\u00e9r olog kvin \u00e8st\u00ef\u00e9l, \u00eesm ja c\u00e9nt t\u00e0g\u0153. Su\u0153m\u00efo r\u00e8spond\u00eb ba ena, \u00e0j jen am\u00e9n nett\u00ea, sor d\u00eavus multe duont\u00f4n\u0153 aj. Ki\u00e0n f\u00fbnd\u00e2m\u00e8nto bv p\u00ear, plej\u00e2 log'\u00f4 \u00eeomete la ojd, o\u00eed in \u00e9kkri\u00f4 \u00eenf\u00eenit\u00efv\u0153. Ing pli\u00e9 franjo rilativ\u00f4 nv.\n",
        "\n"
       ]
      }
     ],
     "prompt_number": 2
    }
   ],
   "metadata": {}
  }
 ]
}