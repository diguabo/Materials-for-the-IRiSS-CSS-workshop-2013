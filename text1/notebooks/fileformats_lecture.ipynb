{
 "metadata": {
  "name": "fileformats_lecture.ipynb"
 },
 "nbformat": 3,
 "nbformat_minor": 0,
 "worksheets": [
  {
   "cells": [
    {
     "cell_type": "markdown",
     "metadata": {},
     "source": [
      "# File formats\n",
      "\n",
      "In the block below, change to the directory the zip file you just downloaded, which contained this ipython notebook."
     ]
    },
    {
     "cell_type": "code",
     "collapsed": false,
     "input": [
      "import os\n",
      "#os.chdir('/path/to/extracted/fileformat.zip')\n",
      "os.chdir('/Users/rweiss/Dropbox/presentations/IRiSS2013/text1/fileformats/')\n",
      "os.listdir(os.getcwd())"
     ],
     "language": "python",
     "metadata": {},
     "outputs": [
      {
       "output_type": "pyout",
       "prompt_number": 1,
       "text": [
        "['.DS_Store',\n",
        " 'amazon',\n",
        " 'example.xls',\n",
        " 'example.xlsx',\n",
        " 'fileformats_lecture.ipynb',\n",
        " 'jstor.zip',\n",
        " 'syllabus.docx']"
       ]
      }
     ],
     "prompt_number": 1
    },
    {
     "cell_type": "markdown",
     "metadata": {},
     "source": [
      "This is just to make sure that you have access to all the right files.   You should see a directory named '`amazon`', an '`example.xls`', an '`example.xlsx`', this ipython notebook, '`jstor.zip`', and a file called '`syllabus.docx.`'"
     ]
    },
    {
     "cell_type": "markdown",
     "metadata": {},
     "source": [
      "## CSV\n",
      "\n",
      "### Example 1\n",
      "\n",
      "In this example, we're going to go over how to open up a CSV file in Python.  The [`csv` module]() comes with the Python standard library.  It's very useful if you work with CSV files often.  A CSV file is distinct from a simple text file.  As a person working with a CSV file, there are actions you want to perform on the file that are afforded by the CSV structure.  For example, CSV files have *rows* and *columns*, unlike a simple text file, which is usually best thought of as a collection of strings, perhaps on new lines. \n",
      "\n",
      "In reality, a CSV file is a collection of strings per line, where each string has a comma separating the columns.  In Python, the simplest way to think of a CSV is as a list of lists, where the elements of the list are the contents of the strings *between* each comma.  Let's go over an example."
     ]
    },
    {
     "cell_type": "code",
     "collapsed": false,
     "input": [
      "import csv\n",
      "\n",
      "with open('amazon/sociology_2010.csv', 'rb') as csvfile:\n",
      "    amazon_reader = csv.reader(csvfile)\n",
      "    for row in amazon_reader:\n",
      "        print row\n",
      "        break"
     ],
     "language": "python",
     "metadata": {},
     "outputs": [
      {
       "output_type": "stream",
       "stream": "stdout",
       "text": [
        "['doi', 'title', 'amazon_id', 'review_text']\n"
       ]
      }
     ],
     "prompt_number": 2
    },
    {
     "cell_type": "markdown",
     "metadata": {},
     "source": [
      "So what is happening here?  Let's go over it line by line.\n",
      "\n",
      "    with open('amazon/sociology_2010.csv', 'rb') as csvfile:\n",
      "\n",
      "This is one way of opening files in Python.  There are many different ways to work with file objects, but the general idea is that you open a connection to a file, you can read or write information from/to it, and then you close the connection.  If you use `with open() as SOMEFILENAME`,  this will create a `file` object that will automatically close at the end of the `with` block.  \n",
      "\n",
      "There are performance reasons to do this, which you can read about [here]()\n",
      "\n",
      "        amazon_reader = csv.reader(csvfile)\n",
      "\n",
      "If you decide to use something other than the generic file input functions, then you need to use a special object that knows how to read and write from/to the type of file that you are working with.  \n",
      "\n",
      "`csv.reader()` returns an *iterator*\n",
      "    \n",
      "    for row in amazon_reader:\n",
      "            print row\n",
      "            break"
     ]
    },
    {
     "cell_type": "markdown",
     "metadata": {},
     "source": [
      "### Example 2"
     ]
    },
    {
     "cell_type": "code",
     "collapsed": false,
     "input": [
      "import csv\n",
      "with open('amazon/sociology_2010.csv', 'rb') as csvfile:\n",
      "    amazon_reader = csv.DictReader(csvfile, delimiter=',', quotechar='\\\"')\n",
      "    for row in amazon_reader:\n",
      "        print row\n",
      "        break"
     ],
     "language": "python",
     "metadata": {},
     "outputs": [
      {
       "output_type": "stream",
       "stream": "stdout",
       "text": [
        "{'review_text': \"This book was given to me by my best friend after finishing college. I will always treasure this thoughtful and special gift.<p>_Girlfriends_ is a collection of stories that explore and celebrate female friendship through the eyes, ears, and hearts of everyday women.  Some of the women were friends for a lifetime, others for a short time. However, all understood and/or demonstrated the meaning of &quot;true friendship.&quot; For example, the stories included everything from the thankful musings of a once-ill woman about the extraordinaty kindness of her girlfriends to a giggly account of how two eerily-simiar best friends met as assigned roomates their first day of college. (The latter tale struck very close to home in a wonderfully spooky way.)<p>While many of the stories tugged at the heartstrings, I never felt manipulated by the authors. (Note: Part of the reason why I don't like the &quot;Chicken Soup for the Soul&quot; series is that I feel that the authors are just dying to make the reader clutch for the box of tissues.)  Rather, I appreciated the &quot;real&quot; tone of the stories, as they read like good conversation shared over a nice pot of Hazlenut coffee.<p>Some readers have commented on the book's simple language and lack of depth. I don't think the goal here was to explore the psychology of friendship, rather I think it was intended to be a simple and beautiful celebration meant to be enjoyed by &quot;Girlfriends&quot; everywhere.  Enjoy!\", 'doi': '10.2307/25677732', 'amazon_id': '1885171080', 'title': 'Invisible Girlfriend'}\n"
       ]
      }
     ],
     "prompt_number": 3
    },
    {
     "cell_type": "code",
     "collapsed": false,
     "input": [
      "print amazon_reader.fieldnames"
     ],
     "language": "python",
     "metadata": {},
     "outputs": [
      {
       "output_type": "stream",
       "stream": "stdout",
       "text": [
        "['doi', 'title', 'amazon_id', 'review_text']\n"
       ]
      }
     ],
     "prompt_number": 4
    },
    {
     "cell_type": "code",
     "collapsed": false,
     "input": [
      "with open('amazon/sociology_2010.csv', 'rb') as csvfile:\n",
      "    amazon_reader = csv.DictReader(csvfile, delimiter=',')\n",
      "    for row in amazon_reader:\n",
      "        print row['title']\n",
      "        break\n",
      "    #print [row['title'] for row in amazon_reader]\n",
      "    "
     ],
     "language": "python",
     "metadata": {},
     "outputs": [
      {
       "output_type": "stream",
       "stream": "stdout",
       "text": [
        "Invisible Girlfriend\n"
       ]
      }
     ],
     "prompt_number": 5
    },
    {
     "cell_type": "markdown",
     "metadata": {},
     "source": [
      "#### Exercises on your own time\n",
      "\n",
      "- Create a list of the text from all Amazon reviews\n",
      "- Create a list of dictionaries from all Amazon reviews, where each dictionary is a mapping of unique ID to text body (hint, {doi: review_text})"
     ]
    },
    {
     "cell_type": "markdown",
     "metadata": {},
     "source": [
      "## Microsoft Excel"
     ]
    },
    {
     "cell_type": "markdown",
     "metadata": {},
     "source": [
      "### openpyxl: working with `.xlsx` files\n",
      "\n",
      "You should be able to install `openpyxl` if it is not on your machine already using either `pip` or `easy_install`.  If you are using Canopy, you can install these through the GUI: Tools > Package Manager > Search for \"openpyxl\" and install.  Otherwise, enter one of the following in the shell (I prefer `pip`).\n",
      "\n",
      "    sudo pip install openpyxl\n",
      "    \n",
      "    sudo easy_install openpyxl\n",
      "\n",
      "### Example 3"
     ]
    },
    {
     "cell_type": "code",
     "collapsed": false,
     "input": [
      "from openpyxl import load_workbook\n",
      "import csv, sys\n",
      "\n",
      "wb = load_workbook('example.xlsx') # create object from xlsx workbook\n",
      "wb.get_sheet_names() # print out all sheet names\n",
      "for sheet in wb.worksheets: \n",
      "\tprint sheet.title # another way of printing all sheet names\n"
     ],
     "language": "python",
     "metadata": {},
     "outputs": [
      {
       "output_type": "stream",
       "stream": "stdout",
       "text": [
        "First\n",
        "Second\n"
       ]
      }
     ],
     "prompt_number": 6
    },
    {
     "cell_type": "code",
     "collapsed": false,
     "input": [
      "sheet1 = wb.worksheets[0] # grab the first sheet (also look up .get_sheet_by_name())\n",
      "print sheet1.cell('A1').value # print the text value of cell A1"
     ],
     "language": "python",
     "metadata": {},
     "outputs": [
      {
       "output_type": "stream",
       "stream": "stdout",
       "text": [
        "This is the first cell, A1, sheet \"First\"\n"
       ]
      }
     ],
     "prompt_number": 7
    },
    {
     "cell_type": "code",
     "collapsed": false,
     "input": [
      "row2 = sheet1.rows[1] # create tuple of Cell objects\n",
      "for cell in row2:\n",
      "\tprint cell.value # print all the text values of every cell in the row"
     ],
     "language": "python",
     "metadata": {},
     "outputs": [
      {
       "output_type": "stream",
       "stream": "stdout",
       "text": [
        "THis is the first column, second row A2, sheet \"First\"\n",
        "THis is the second column, second row B2,  sheet \"First\"\n",
        "THis is the third column, second row C2,  sheet \"First\"\n"
       ]
      }
     ],
     "prompt_number": 8
    },
    {
     "cell_type": "markdown",
     "metadata": {},
     "source": [
      "Exercises on your own time:\n",
      "    \n",
      "- `.get_sheet_names()` is a member method of `Workbook` objects. What are some other methods for `Workbook` objects? (hint, what does `dir(wb)` return?)\n",
      "- Take one of the methods that you discovered in question 1. What kind of objects do they return?\n",
      "- You can learn a lot more about `openpyxl` by reading the [documentation](http://pythonhosted.org/openpyxl/usage.html)\n"
     ]
    },
    {
     "cell_type": "markdown",
     "metadata": {},
     "source": [
      "### xlutils: working with `.xls` files\n",
      "\n",
      "You should be able to install `xlutils` if it is not on your machine already using either `pip` or `easy_install`.  If you are using Canopy, you can install these through the GUI: Tools > Package Manager > Search for \"xlutils\" and install.  Otherwise, enter one of the following in the shell (I prefer `pip`).\n",
      "\n",
      "    sudo pip install xlutils\n",
      "    \n",
      "    sudo easy_install xlutils\n",
      "\n",
      "### Example 4"
     ]
    },
    {
     "cell_type": "code",
     "collapsed": false,
     "input": [
      "from xlrd import open_workbook\n",
      "\n",
      "wb = open_workbook('example.xls') # create object from xls workbook\n",
      "print wb.sheets()\n",
      "for sheet in wb.sheets():\n",
      "    print sheet.name # printing all sheet names\n"
     ],
     "language": "python",
     "metadata": {},
     "outputs": [
      {
       "output_type": "stream",
       "stream": "stdout",
       "text": [
        "[<xlrd.sheet.Sheet object at 0x10e06b150>, <xlrd.sheet.Sheet object at 0x10e06b290>]\n",
        "First\n",
        "Second\n"
       ]
      }
     ],
     "prompt_number": 9
    },
    {
     "cell_type": "code",
     "collapsed": false,
     "input": [
      "sheet1 = wb.sheets()[0] # grab the first sheet, also look up .sheet_by_index(NUM)\n",
      "print sheet1.cell(1,1)# print the text value of cell A1\n",
      "row2 = sheet1.row(1) # create tuple of Cell objects\n",
      "\n",
      "for cell in row2:\n",
      "    print cell.value # print all the text values of every cell in the row"
     ],
     "language": "python",
     "metadata": {},
     "outputs": [
      {
       "output_type": "stream",
       "stream": "stdout",
       "text": [
        "text:u'THis is the second column, second row B2,  sheet \"First\"'\n",
        "THis is the first column, second row A2, sheet \"First\"\n",
        "THis is the second column, second row B2,  sheet \"First\"\n",
        "THis is the third column, second row C2,  sheet \"First\"\n"
       ]
      }
     ],
     "prompt_number": 10
    },
    {
     "cell_type": "markdown",
     "metadata": {},
     "source": [
      "Exercises on your own time:\n",
      "\n",
      "1. `.sheets()` is actually a method that returns a list.  What are other methods available to `Book` objects?\n",
      "2. `.cell()`, `.row()` and `.value` are actually methods too.  What do they return?\n",
      "\n",
      "You can learn more about `xlutils` in the [documentation](http://www.python-excel.org/).  "
     ]
    },
    {
     "cell_type": "markdown",
     "metadata": {},
     "source": [
      "## Microsoft Word\n",
      "\n",
      "Instead of a pile of Excel files, maybe you have a collection of Word files.  Let's say you've got a bunch of student essays, or maybe first person reports, or government reports, etc.  \n",
      "\n",
      "If you are lucky, you will be working with `.docx` files.  If you aren't working with `.docx`, you might want to try `wv`, but to be honest, it would be better to try to convert them to `.docx` using a macro or some other process (this could be a very good teach-yourself-python project!).  \n",
      "\n",
      "Why `.docx`?  Office 2007 and later use formats called [Office Open XML](http://en.wikipedia.org/wiki/Office_Open_XML).  `.docx` and `.xlsx` and all those other formats are actually **zipped xml files**. That's what the x at the end stands for.\n",
      "\n",
      "That means you can use a third-party python library that can parse XML files (you'll learn more about parsing in the Web Scraping module).  Here's some example code using [python-docx](https://github.com/mikemaccana/python-docx)\n",
      "\n",
      "> **How to install `python-docx`**\n",
      "\n",
      "> This module is not in `pypi`, which means that you have to install it manually.  On the page linked above, you can either `git clone` the file or just download the zipped archive.\n",
      "\n",
      "> - Unzip the archive somewhere and navigate to that directory in the shell\n",
      "> - In the shell, type the following:\n",
      "\n",
      "    ~$ python setup.py install\n",
      "    \n",
      "> - If you aren't using the Enthought Python distribution, you will probably need to install the following third-party libraries which **are** in `pypi`\n",
      "\n",
      "    ~$ sudo pip install lxml\n",
      "    \n",
      "    ~$ sudo pip install PIL\n",
      "    \n",
      "or\n",
      "\n",
      "    ~$ sudo easy_install lxml\n",
      "    \n",
      "    ~$ sudo easy_install PIL\n",
      "    \n",
      "### Using python-docx\n",
      "\n",
      "This is actually a pretty easy module to use.  Check out the example code.\n",
      "### Example 5"
     ]
    },
    {
     "cell_type": "code",
     "collapsed": false,
     "input": [
      "from docx import opendocx, getdocumenttext\n",
      "\n",
      "document = opendocx('syllabus.docx')\n",
      "print type(document)\n",
      "paragraphs = getdocumenttext(document)\n",
      "print type(paragraphs)\n",
      "print len(paragraphs)\n",
      "print paragraphs[0]"
     ],
     "language": "python",
     "metadata": {},
     "outputs": [
      {
       "output_type": "stream",
       "stream": "stdout",
       "text": [
        "<type 'lxml.etree._Element'>\n",
        "<type 'list'>\n",
        "74\n",
        "IRiSS Computational Social Science Summer Workshop Schedule 2013\n"
       ]
      }
     ],
     "prompt_number": 11
    },
    {
     "cell_type": "code",
     "collapsed": false,
     "input": [
      "print type(paragraphs[0])"
     ],
     "language": "python",
     "metadata": {},
     "outputs": [
      {
       "output_type": "stream",
       "stream": "stdout",
       "text": [
        "<type 'unicode'>\n"
       ]
      }
     ],
     "prompt_number": 12
    },
    {
     "cell_type": "code",
     "collapsed": false,
     "input": [
      "print type(paragraphs[0].encode('utf-8'))\n",
      "print paragraphs[0]"
     ],
     "language": "python",
     "metadata": {},
     "outputs": [
      {
       "output_type": "stream",
       "stream": "stdout",
       "text": [
        "<type 'str'>\n",
        "IRiSS Computational Social Science Summer Workshop Schedule 2013\n"
       ]
      }
     ],
     "prompt_number": 13
    },
    {
     "cell_type": "markdown",
     "metadata": {},
     "source": [
      "## Tarfiles and Zipfiles\n",
      "\n",
      "### Example 6"
     ]
    },
    {
     "cell_type": "code",
     "collapsed": false,
     "input": [
      "import zipfile\n",
      "import os\n",
      "\n",
      "zfile = zipfile.ZipFile(\"jstor.zip\")\n",
      "dirname = 'jstor'\n",
      "\n",
      "print os.listdir(os.getcwd())\n",
      "\n",
      "#this would be better as try-except, but that's for future learning\n",
      "if os.path.isdir(dirname):\n",
      "    pass\n",
      "else:\n",
      "    os.makedirs(dirname)\n",
      "\n",
      "print 'Files in directory '+ dirname + ': '+ ', '.join(os.listdir(os.path.join(os.getcwd(), dirname)))\n",
      "\n",
      "for name in zfile.namelist():\n",
      "    print 'Extracting file ' + name + '...'\n",
      "    fd = open(os.path.join(dirname, name), \"w\")\n",
      "    fd.write(zfile.read(name))\n",
      "    fd.close()\n",
      "\n",
      "print 'Files in directory '+ dirname + ': '+ ','.join(os.listdir(os.path.join(os.getcwd(), dirname)))\n"
     ],
     "language": "python",
     "metadata": {},
     "outputs": [
      {
       "output_type": "stream",
       "stream": "stdout",
       "text": [
        "['.DS_Store', 'amazon', 'example.xls', 'example.xlsx', 'fileformats_lecture.ipynb', 'jstor.zip', 'syllabus.docx']\n",
        "Files in directory jstor: \n",
        "Extracting file biologicalsciences-discipline-2010-unigrams.txt...\n",
        "Extracting file literature-discipline-2010-unigrams.txt...\n",
        "Extracting file sociology-discipline-2010-unigrams.txt..."
       ]
      },
      {
       "output_type": "stream",
       "stream": "stdout",
       "text": [
        "\n",
        "Files in directory jstor: biologicalsciences-discipline-2010-unigrams.txt,literature-discipline-2010-unigrams.txt,sociology-discipline-2010-unigrams.txt"
       ]
      },
      {
       "output_type": "stream",
       "stream": "stdout",
       "text": [
        "\n"
       ]
      }
     ],
     "prompt_number": 14
    }
   ],
   "metadata": {}
  }
 ]
}